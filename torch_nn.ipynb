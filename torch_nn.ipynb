{
 "cells": [
  {
   "cell_type": "code",
   "execution_count": 58,
   "metadata": {},
   "outputs": [],
   "source": [
    "import torch as th\n",
    "import numpy as np\n",
    "import pandas as pd\n",
    "\n",
    "import os\n",
    "import sys\n",
    "\n",
    "from tqdm import tqdm\n",
    "from sklearn import preprocessing\n",
    "from sklearn.model_selection import train_test_split\n",
    "from sklearn.metrics import mean_squared_error, accuracy_score, roc_auc_score\n",
    "\n",
    "from torch import nn\n",
    "from torch.utils.data import DataLoader, TensorDataset\n",
    "import gc\n",
    "os.environ[\"CUDA_VISIBLE_DEVICES\"] = \"4\"\n",
    "EPOCHS = 1000\n",
    "BATCH_SIZE = 2048\n",
    "EARLY_STOP_ROUNDS = 30\n",
    "USE_GPU = True"
   ]
  },
  {
   "cell_type": "code",
   "execution_count": 47,
   "metadata": {},
   "outputs": [],
   "source": [
    "class UtilityLoss(nn.Module):\n",
    "    def forward(self, day, weight, resp, action):\n",
    "        cnt = day.max() - day.min() + 1\n",
    "        nday = th.tensor(len(day.unique()), device=day.device, dtype=th.float32)\n",
    "        C = th.sqrt(250. / nday)\n",
    "        C6 = th.tensor(6., device=day.device)\n",
    "        C0 = th.tensor(0., device=day.device)\n",
    "        \n",
    "        p = (weight * resp * action).reshape(-1, 1)\n",
    "        m = th.zeros((int(cnt), len(p)), device=day.device)\n",
    "        m[(day-day.min()).long(), th.arange(len(p))] = 1\n",
    "        pi = th.mm(m, p)\n",
    "        t = pi.sum() / (pi**2).sum().sqrt() * C\n",
    "        u = th.clamp(t, C0, C6) * pi.sum() \n",
    "        return -u\n",
    "def utility_score(day, weight, resp, action):\n",
    "    day = day.reshape(-1, 1)\n",
    "    p = (weight*resp*action).reshape(-1, 1)\n",
    "    df = pd.DataFrame(np.hstack([day, p]), columns=['date', 'p'])\n",
    "    \n",
    "    p_i = df.groupby('date').sum().values\n",
    "    t = (p_i.sum() / np.sqrt((p_i**2).sum())) * (np.sqrt(250 / len(p_i)))\n",
    "    return np.clip(t, 0, 6) * p_i.sum()"
   ]
  },
  {
   "cell_type": "code",
   "execution_count": 72,
   "metadata": {},
   "outputs": [],
   "source": [
    "class MLPModel(nn.Module):\n",
    "    def __init__(self, nemb=16, nfea=129, act='LeakyReLU', output_act='softsign', **kwargs):\n",
    "        super().__init__()\n",
    "        self.emb = nn.Embedding(3, nemb)\n",
    "        if act == 'LeakyReLU':\n",
    "            act = nn.LeakyReLU\n",
    "        elif act == 'Swish':\n",
    "            act = lambda x: x * th.sigmoid(x)\n",
    "        self.m = nn.Sequential(nn.Linear(nfea+nemb, 384), nn.BatchNorm1d(384), nn.LeakyReLU(), nn.Dropout(0.1),\n",
    "                               nn.Linear(384, 896), nn.BatchNorm1d(896), nn.LeakyReLU(), nn.Dropout(0.2),\n",
    "                               nn.Linear(896, 896), nn.BatchNorm1d(896), nn.LeakyReLU(), nn.Dropout(0.25),\n",
    "                               nn.Linear(896, 384), nn.BatchNorm1d(384), nn.LeakyReLU(), nn.Dropout(0.22),\n",
    "                               nn.Linear(384, 1))\n",
    "        self.output_act = output_act\n",
    "        \n",
    "    def forward(self, x):\n",
    "        o1 = self.emb(x[:, 0].long())\n",
    "        x = th.cat([o1, x[:, 1:]], dim=1)\n",
    "        o = self.m(x).reshape(-1)\n",
    "        if self.output_act == 'softsign':\n",
    "            return (nn.functional.softsign(o)+1)/2\n",
    "        elif self.output_act == 'sigmoid':\n",
    "            return th.sigmoid(o)\n",
    "        else:\n",
    "            raise NotImplementedError()\n",
    "    \n",
    "    def save(self, fname):\n",
    "        th.save(self.state_dict(), fname)\n",
    "        \n",
    "    def load(self, fname, map_loc):\n",
    "        self.load_state_dict(th.load(fname, map_location=map_loc))\n",
    "    \n"
   ]
  },
  {
   "cell_type": "code",
   "execution_count": 44,
   "metadata": {},
   "outputs": [],
   "source": [
    "def train_one_epoch(model, x, opt, batch_size):\n",
    "    model.train()\n",
    "    train_dl = DataLoader(x, batch_size=batch_size)\n",
    "    #loss_fn = UtilityLoss()\n",
    "    loss_fn = nn.BCELoss()\n",
    "    pbar = tqdm(enumerate(train_dl))\n",
    "    mean_acc = 0.\n",
    "    mean_auc = 0.\n",
    "    mean_score = 0.\n",
    "    for i, (batx, dwra) in pbar:\n",
    "        opt.zero_grad()\n",
    "        pred = model(batx)\n",
    "        #loss = loss_fn(dwra[:, 0], dwra[:, 1], dwra[:, 2], pred)\n",
    "        loss = loss_fn(pred, dwra[:, 3])\n",
    "        loss.backward()\n",
    "        opt.step()\n",
    "        y_true, y_pred = dwra[:, 3].cpu().numpy(), pred.cpu().detach().numpy()>0.5\n",
    "        mean_acc = (accuracy_score(y_true, y_pred) + i*mean_acc)/(1+i)\n",
    "        mean_auc = (roc_auc_score(y_true, y_pred) + i*mean_auc)/(1+i)\n",
    "        mean_score = (utility_score(dwra[:, 0].cpu().numpy(), dwra[:, 1].cpu().numpy(), dwra[:, 2].cpu().numpy(), y_pred) + i*mean_score)/(1+i)\n",
    "        pbar.set_description(f'train loss: {float(loss)}, acc: {mean_acc}, auc: {mean_auc}, uscore: {mean_score}')\n",
    "    return float(loss), mean_acc, mean_auc, mean_score\n",
    "def validate(model, x, dwra):\n",
    "    model.eval()\n",
    "    #loss_fn = UtilityLoss()\n",
    "    loss_fn = nn.BCELoss()\n",
    "    with th.no_grad():\n",
    "        pred = model(x)\n",
    "        #loss = loss_fn(dwra[:, 0], dwra[:, 1], dwra[:, 2], pred)\n",
    "        loss = loss_fn(pred, dwra[:, 3])\n",
    "        y_true, y_pred = dwra[:, 3].cpu().numpy(), pred.cpu().detach().numpy()>0.5\n",
    "        auc = roc_auc_score(y_true, y_pred)\n",
    "        acc = accuracy_score(y_true, y_pred)\n",
    "        score = utility_score(dwra[:, 0].cpu().numpy(), dwra[:, 1].cpu().numpy(), dwra[:, 2].cpu().numpy(), y_pred)\n",
    "        print(f'val loss: {float(loss)}, acc: {acc}, auc: {auc}, uscore: {score}')\n",
    "        return float(loss), acc, auc, score"
   ]
  },
  {
   "cell_type": "code",
   "execution_count": 23,
   "metadata": {},
   "outputs": [],
   "source": [
    "data = pd.read_csv('./input/train.csv')\n",
    "\n",
    "features = [c for c in data.columns if 'feature' in c]\n",
    "\n",
    "print('Filling...')\n",
    "f_mean = data[features[1:]].mean()\n",
    "data['feature_0'] = (data['feature_0'] + 1) // 2\n",
    "data = data.query('weight > 0').reset_index(drop = True)\n",
    "data[features[1:]] = data[features[1:]].fillna(f_mean)\n",
    "data['action'] = (data['resp'] > 0).astype('int')"
   ]
  },
  {
   "cell_type": "code",
   "execution_count": 73,
   "metadata": {},
   "outputs": [],
   "source": [
    "def process(data, model_params={}):\n",
    "\n",
    "    train, val = train_test_split(data, train_size=0.7, shuffle=False)\n",
    "    X_train, X_val = train[features].values, val[features].values\n",
    "    y_train, y_val = train['action'].values, val['action'].values\n",
    "    \n",
    "    model = MLPModel(output_act='sigmoid', **model_params)\n",
    "    print(model)\n",
    "    opt = th.optim.Adam(model.parameters())\n",
    "    if USE_GPU:\n",
    "        model = model.cuda()\n",
    "#         opt = opt.cuda()\n",
    "        dev = 'cuda'\n",
    "    else:\n",
    "        dev = 'cpu'\n",
    "    train_ds = TensorDataset(th.tensor(X_train.astype('float32'), device=dev), th.tensor(train[['date', 'weight', 'resp', 'action']].values.astype('float32'), device=dev))\n",
    "    val_ds = th.tensor(X_val.astype('float32'), device=dev), th.tensor(val[['date', 'weight', 'resp', 'action']].values.astype('float32'), device=dev)\n",
    "    opt_score, opt_epoch = 1e9, 0\n",
    "    for e in range(EPOCHS):\n",
    "        train_one_epoch(model, train_ds, opt, BATCH_SIZE)\n",
    "        val_metrics = validate(model, *val_ds)\n",
    "        \n",
    "        if val_metrics[2] > opt_score:\n",
    "            opt_score = val_metrics[2]\n",
    "            opt_epoch = e\n",
    "            model.save(f'mlp.pt')\n",
    "        else:\n",
    "            if e - opt_epoch >= EARLY_STOP_ROUNDS:\n",
    "                break\n",
    "    print(opt_score)\n",
    "    return opt_score"
   ]
  },
  {
   "cell_type": "code",
   "execution_count": 74,
   "metadata": {},
   "outputs": [
    {
     "name": "stderr",
     "output_type": "stream",
     "text": [
      "train loss: 0.6916323304176331, acc: 0.5116306386152294, auc: 0.5096464768407564, uscore: 25.87422348182517: : 678it [00:54, 12.56it/s] \n",
      "train loss: 0.6917372345924377, acc: 0.550048828125, auc: 0.540932922903959, uscore: 55.719857946038246: : 2it [00:00, 14.53it/s]"
     ]
    },
    {
     "name": "stdout",
     "output_type": "stream",
     "text": [
      "val loss: 0.6932085156440735, acc: 0.5078492631904803, auc: 0.5098167218105776, uscore: 98.46987642834199\n"
     ]
    },
    {
     "name": "stderr",
     "output_type": "stream",
     "text": [
      "train loss: 0.6899170875549316, acc: 0.5183415216953804, auc: 0.5152739000921064, uscore: 29.830547379635842: : 678it [00:52, 12.94it/s]\n",
      "train loss: 0.6894217729568481, acc: 0.5732421875, auc: 0.5672125908722461, uscore: 62.6304566860199: : 2it [00:00, 14.76it/s]"
     ]
    },
    {
     "name": "stdout",
     "output_type": "stream",
     "text": [
      "val loss: 0.6923532485961914, acc: 0.5166364674866711, auc: 0.5172247544855237, uscore: 1065.5180020129555\n"
     ]
    },
    {
     "name": "stderr",
     "output_type": "stream",
     "text": [
      "train loss: 0.6893985271453857, acc: 0.520755682367877, auc: 0.5178799885037118, uscore: 30.86498887595029: : 678it [00:52, 12.86it/s]  \n",
      "train loss: 0.6882034540176392, acc: 0.579833984375, auc: 0.5752535289768342, uscore: 63.95200824737549: : 2it [00:00, 11.77it/s]"
     ]
    },
    {
     "name": "stdout",
     "output_type": "stream",
     "text": [
      "val loss: 0.6932514905929565, acc: 0.5177619968135239, auc: 0.5177574094263869, uscore: 1632.5679523874028\n"
     ]
    },
    {
     "name": "stderr",
     "output_type": "stream",
     "text": [
      "train loss: 0.6867812871932983, acc: 0.5216749799547851, auc: 0.5186601414328519, uscore: 30.712431907541365: : 678it [00:52, 12.91it/s]\n",
      "train loss: 0.6886390447616577, acc: 0.57373046875, auc: 0.5736410987989032, uscore: 58.09954261779785: : 2it [00:00, 15.04it/s] "
     ]
    },
    {
     "name": "stdout",
     "output_type": "stream",
     "text": [
      "val loss: 0.6932002305984497, acc: 0.5146562761298615, auc: 0.513571387872879, uscore: 1419.909324771336\n"
     ]
    },
    {
     "name": "stderr",
     "output_type": "stream",
     "text": [
      "train loss: 0.68710857629776, acc: 0.522667857001063, auc: 0.5199709497889127, uscore: 31.2242138224067: : 678it [00:51, 13.11it/s]     \n",
      "train loss: 0.6873465776443481, acc: 0.5732421875, auc: 0.5693465548769823, uscore: 64.33827781677246: : 2it [00:00, 14.20it/s]"
     ]
    },
    {
     "name": "stdout",
     "output_type": "stream",
     "text": [
      "val loss: 0.6938237547874451, acc: 0.5166162786198217, auc: 0.5160642616964398, uscore: 1672.6460289023203\n"
     ]
    },
    {
     "name": "stderr",
     "output_type": "stream",
     "text": [
      "train loss: 0.6866723895072937, acc: 0.5235388027792672, auc: 0.5209977469157443, uscore: 31.68686351537773: : 678it [00:52, 12.85it/s] \n",
      "train loss: 0.6870602369308472, acc: 0.564208984375, auc: 0.5582182833730933, uscore: 57.6137809753418: : 2it [00:00, 14.55it/s]"
     ]
    },
    {
     "name": "stdout",
     "output_type": "stream",
     "text": [
      "val loss: 0.6937283277511597, acc: 0.517152965996901, auc: 0.5171546118125627, uscore: 1956.4109853265138\n"
     ]
    },
    {
     "name": "stderr",
     "output_type": "stream",
     "text": [
      "train loss: 0.6868084073066711, acc: 0.5242318857767275, auc: 0.5216116314203082, uscore: 32.45992611625746: : 678it [00:53, 12.75it/s] \n",
      "train loss: 0.6864737272262573, acc: 0.56494140625, auc: 0.5589358779561364, uscore: 57.5227267742157: : 2it [00:00, 14.60it/s]"
     ]
    },
    {
     "name": "stdout",
     "output_type": "stream",
     "text": [
      "val loss: 0.6921421885490417, acc: 0.5180496881661275, auc: 0.5183157818529758, uscore: 2045.0614859908176\n"
     ]
    },
    {
     "name": "stderr",
     "output_type": "stream",
     "text": [
      "train loss: 0.6905748844146729, acc: 0.5255530431534576, auc: 0.5227863877820929, uscore: 33.18279998237872: : 678it [00:53, 12.71it/s] \n",
      "train loss: 0.6873172521591187, acc: 0.5556640625, auc: 0.5502398046613094, uscore: 57.60930848121643: : 2it [00:00, 14.11it/s]"
     ]
    },
    {
     "name": "stdout",
     "output_type": "stream",
     "text": [
      "val loss: 0.6929415464401245, acc: 0.5179201429371773, auc: 0.5182597005731651, uscore: 1962.57739962128\n"
     ]
    },
    {
     "name": "stderr",
     "output_type": "stream",
     "text": [
      "train loss: 0.6878097653388977, acc: 0.5264503360682445, auc: 0.5240004355480365, uscore: 32.89032001960699: : 678it [00:53, 12.79it/s] \n",
      "train loss: 0.6855769157409668, acc: 0.56298828125, auc: 0.5572441358946533, uscore: 61.61080455780029: : 2it [00:00, 13.56it/s]"
     ]
    },
    {
     "name": "stdout",
     "output_type": "stream",
     "text": [
      "val loss: 0.6926892995834351, acc: 0.5185089848869507, auc: 0.5188966526659857, uscore: 2193.5475551015434\n"
     ]
    },
    {
     "name": "stderr",
     "output_type": "stream",
     "text": [
      "train loss: 0.6852483153343201, acc: 0.5267073186940512, auc: 0.5243827020704185, uscore: 33.0333962324878: : 678it [00:52, 12.83it/s]  \n",
      "train loss: 0.6834654808044434, acc: 0.561767578125, auc: 0.5571968922577006, uscore: 61.44335889816284: : 2it [00:00, 14.10it/s]"
     ]
    },
    {
     "name": "stdout",
     "output_type": "stream",
     "text": [
      "val loss: 0.691872239112854, acc: 0.5174053268325182, auc: 0.5176079482649889, uscore: 1928.663805250571\n"
     ]
    },
    {
     "name": "stderr",
     "output_type": "stream",
     "text": [
      "train loss: 0.6837366819381714, acc: 0.527539645773551, auc: 0.5253173903554256, uscore: 32.79039034652395: : 678it [00:53, 12.79it/s]  \n",
      "train loss: 0.6873224377632141, acc: 0.5540364583333334, auc: 0.5506067434229661, uscore: 53.39478778839111: : 2it [00:00, 15.03it/s]"
     ]
    },
    {
     "name": "stdout",
     "output_type": "stream",
     "text": [
      "val loss: 0.6918820142745972, acc: 0.517006596712243, auc: 0.5173519557146073, uscore: 1865.1113376525516\n"
     ]
    },
    {
     "name": "stderr",
     "output_type": "stream",
     "text": [
      "train loss: 0.6842788457870483, acc: 0.5286265952888148, auc: 0.5264055768701321, uscore: 33.10059617411753: : 678it [00:52, 13.03it/s] \n",
      "train loss: 0.6841134428977966, acc: 0.564208984375, auc: 0.5591160680674565, uscore: 59.76934289932251: : 2it [00:00, 14.49it/s]"
     ]
    },
    {
     "name": "stdout",
     "output_type": "stream",
     "text": [
      "val loss: 0.6918810606002808, acc: 0.5163353168895013, auc: 0.5169894162070274, uscore: 1309.3496762827917\n"
     ]
    },
    {
     "name": "stderr",
     "output_type": "stream",
     "text": [
      "train loss: 0.681377112865448, acc: 0.5297745603514991, auc: 0.5275206702480225, uscore: 34.043084755129165: : 678it [00:52, 12.95it/s] \n",
      "train loss: 0.683124303817749, acc: 0.562255859375, auc: 0.5570059571031126, uscore: 63.72678995132446: : 2it [00:00, 14.26it/s]"
     ]
    },
    {
     "name": "stdout",
     "output_type": "stream",
     "text": [
      "val loss: 0.6918905973434448, acc: 0.5160493079424685, auc: 0.5166946342822073, uscore: 1300.614201642701\n"
     ]
    },
    {
     "name": "stderr",
     "output_type": "stream",
     "text": [
      "train loss: 0.6819384694099426, acc: 0.5307096519593878, auc: 0.5285864083572297, uscore: 34.11211502589892: : 678it [00:52, 12.80it/s] \n",
      "train loss: 0.682608962059021, acc: 0.558837890625, auc: 0.5531713029526331, uscore: 59.765058517456055: : 2it [00:00, 13.88it/s]"
     ]
    },
    {
     "name": "stdout",
     "output_type": "stream",
     "text": [
      "val loss: 0.6921868324279785, acc: 0.5147673148975331, auc: 0.5156455791287099, uscore: 993.1404111579711\n"
     ]
    },
    {
     "name": "stderr",
     "output_type": "stream",
     "text": [
      "train loss: 0.6838383078575134, acc: 0.5321260440739183, auc: 0.5299439503500848, uscore: 34.52263113720627: : 678it [00:51, 13.10it/s] \n",
      "train loss: 0.6831848621368408, acc: 0.55224609375, auc: 0.5461825567854187, uscore: 58.36280107498169: : 2it [00:00, 14.07it/s]"
     ]
    },
    {
     "name": "stdout",
     "output_type": "stream",
     "text": [
      "val loss: 0.6920523643493652, acc: 0.5145940271237426, auc: 0.5154139518994583, uscore: 863.2907323994308\n"
     ]
    },
    {
     "name": "stderr",
     "output_type": "stream",
     "text": [
      "train loss: 0.6808675527572632, acc: 0.5332291084819202, auc: 0.5311482545239407, uscore: 34.80126033101393: : 678it [00:52, 12.87it/s] \n",
      "train loss: 0.6830605268478394, acc: 0.558837890625, auc: 0.5523144472003165, uscore: 61.32894802093506: : 2it [00:00, 13.91it/s]"
     ]
    },
    {
     "name": "stdout",
     "output_type": "stream",
     "text": [
      "val loss: 0.6921650171279907, acc: 0.5139950907405445, auc: 0.5146816248950666, uscore: 1015.4406868669446\n"
     ]
    },
    {
     "name": "stderr",
     "output_type": "stream",
     "text": [
      "train loss: 0.6820427179336548, acc: 0.5346364377519061, auc: 0.5325978339154004, uscore: 35.28040877283669: : 678it [00:51, 13.04it/s] \n",
      "train loss: 0.6837199926376343, acc: 0.555908203125, auc: 0.5487105008068551, uscore: 63.74757957458496: : 2it [00:00, 14.84it/s]"
     ]
    },
    {
     "name": "stdout",
     "output_type": "stream",
     "text": [
      "val loss: 0.6923996210098267, acc: 0.513737682688215, auc: 0.5145571176861856, uscore: 723.9875903954082\n"
     ]
    },
    {
     "name": "stderr",
     "output_type": "stream",
     "text": [
      "train loss: 0.6812514662742615, acc: 0.5362114688636322, auc: 0.5342984549046252, uscore: 35.943024967562046: : 678it [00:52, 13.01it/s]\n",
      "train loss: 0.6820602416992188, acc: 0.5576171875, auc: 0.5516356211455387, uscore: 63.09474277496338: : 2it [00:00, 13.26it/s]"
     ]
    },
    {
     "name": "stdout",
     "output_type": "stream",
     "text": [
      "val loss: 0.6925257444381714, acc: 0.5137511419327812, auc: 0.5143757073768873, uscore: 823.4528720409597\n"
     ]
    },
    {
     "name": "stderr",
     "output_type": "stream",
     "text": [
      "train loss: 0.6792164444923401, acc: 0.5375629735781935, auc: 0.5356593718006996, uscore: 36.43855487123952: : 678it [00:52, 12.94it/s] \n",
      "train loss: 0.6828246116638184, acc: 0.552490234375, auc: 0.5464867299011793, uscore: 59.492518186569214: : 2it [00:00, 14.64it/s]"
     ]
    },
    {
     "name": "stdout",
     "output_type": "stream",
     "text": [
      "val loss: 0.6928841471672058, acc: 0.512906574336249, auc: 0.51364419061035, uscore: 630.2885865514936\n"
     ]
    },
    {
     "name": "stderr",
     "output_type": "stream",
     "text": [
      "train loss: 0.6802348494529724, acc: 0.5392829317673197, auc: 0.5373955487524051, uscore: 37.50867492753654: : 678it [00:52, 12.87it/s] \n",
      "train loss: 0.682817816734314, acc: 0.55712890625, auc: 0.5511366707580393, uscore: 57.08800935745239: : 2it [00:00, 13.33it/s]"
     ]
    },
    {
     "name": "stdout",
     "output_type": "stream",
     "text": [
      "val loss: 0.6930608749389648, acc: 0.5126895440176181, auc: 0.5134022060343266, uscore: 696.9096851694984\n"
     ]
    },
    {
     "name": "stderr",
     "output_type": "stream",
     "text": [
      "train loss: 0.6813716888427734, acc: 0.5406990529234754, auc: 0.5387589244889025, uscore: 38.08438288856239: : 678it [00:53, 12.69it/s] \n",
      "train loss: 0.6832628846168518, acc: 0.558837890625, auc: 0.5525647920596604, uscore: 60.62199354171753: : 2it [00:00, 13.31it/s]"
     ]
    },
    {
     "name": "stdout",
     "output_type": "stream",
     "text": [
      "val loss: 0.6931291222572327, acc: 0.5130495788097653, auc: 0.5137231614180823, uscore: 612.1122411825692\n"
     ]
    },
    {
     "name": "stderr",
     "output_type": "stream",
     "text": [
      "train loss: 0.6797588467597961, acc: 0.541909423977866, auc: 0.5400928503615758, uscore: 38.20231182440796: : 678it [00:52, 12.87it/s]  \n",
      "train loss: 0.6810731887817383, acc: 0.5615234375, auc: 0.5553617646538012, uscore: 59.927459478378296: : 2it [00:00, 14.15it/s]"
     ]
    },
    {
     "name": "stdout",
     "output_type": "stream",
     "text": [
      "val loss: 0.693356454372406, acc: 0.5131505231440122, auc: 0.5139145453317999, uscore: 713.125311334315\n"
     ]
    },
    {
     "name": "stderr",
     "output_type": "stream",
     "text": [
      "train loss: 0.680111289024353, acc: 0.5440858329385897, auc: 0.54218326620628, uscore: 39.53408683105092: : 678it [00:52, 12.97it/s]    \n",
      "train loss: 0.6818344593048096, acc: 0.564453125, auc: 0.5593085534114058, uscore: 56.467437744140625: : 2it [00:00, 14.51it/s]"
     ]
    },
    {
     "name": "stdout",
     "output_type": "stream",
     "text": [
      "val loss: 0.6938781142234802, acc: 0.5124573720488503, auc: 0.5131808871487665, uscore: 606.9321090565936\n"
     ]
    },
    {
     "name": "stderr",
     "output_type": "stream",
     "text": [
      "train loss: 0.6795306205749512, acc: 0.5461148476746178, auc: 0.5443101054668404, uscore: 39.43637264436478: : 678it [00:52, 13.03it/s] \n",
      "train loss: 0.681505024433136, acc: 0.555908203125, auc: 0.5502568830658832, uscore: 61.51925539970398: : 2it [00:00, 13.45it/s]"
     ]
    },
    {
     "name": "stdout",
     "output_type": "stream",
     "text": [
      "val loss: 0.6939792037010193, acc: 0.5141936145978967, auc: 0.5147940127522376, uscore: 917.9771143178198\n"
     ]
    },
    {
     "name": "stderr",
     "output_type": "stream",
     "text": [
      "train loss: 0.679640531539917, acc: 0.5475786004606409, auc: 0.5457973179714913, uscore: 40.239243053400806: : 678it [00:51, 13.22it/s] \n",
      "train loss: 0.6823697090148926, acc: 0.557373046875, auc: 0.5515887745847772, uscore: 54.37088871002197: : 2it [00:00, 14.73it/s]"
     ]
    },
    {
     "name": "stdout",
     "output_type": "stream",
     "text": [
      "val loss: 0.6942166686058044, acc: 0.5137746956107722, auc: 0.5144109462132107, uscore: 765.4332176147891\n"
     ]
    },
    {
     "name": "stderr",
     "output_type": "stream",
     "text": [
      "train loss: 0.6769841909408569, acc: 0.5493830192269787, auc: 0.5475863252609562, uscore: 41.18629279828163: : 678it [00:53, 12.79it/s] \n",
      "train loss: 0.6821390390396118, acc: 0.560546875, auc: 0.5549520198498201, uscore: 56.879732608795166: : 2it [00:00, 13.46it/s]"
     ]
    },
    {
     "name": "stdout",
     "output_type": "stream",
     "text": [
      "val loss: 0.6946159601211548, acc: 0.5136535624096759, auc: 0.5142794380515374, uscore: 1127.338012042166\n"
     ]
    },
    {
     "name": "stderr",
     "output_type": "stream",
     "text": [
      "train loss: 0.6747634410858154, acc: 0.5515801137203733, auc: 0.5497706453347933, uscore: 41.48862264516108: : 678it [00:53, 12.76it/s] \n",
      "train loss: 0.6795675754547119, acc: 0.55908203125, auc: 0.5540937650118902, uscore: 51.92199754714966: : 2it [00:00, 14.03it/s]"
     ]
    },
    {
     "name": "stdout",
     "output_type": "stream",
     "text": [
      "val loss: 0.6954241394996643, acc: 0.5131656647941493, auc: 0.5138990748679813, uscore: 813.8435178109883\n"
     ]
    },
    {
     "name": "stderr",
     "output_type": "stream",
     "text": [
      "train loss: 0.676842987537384, acc: 0.5533566950790764, auc: 0.5515810802298796, uscore: 42.98869071203529: : 678it [00:51, 13.17it/s]  \n",
      "train loss: 0.682820200920105, acc: 0.556884765625, auc: 0.5513538742186433, uscore: 64.8283224105835: : 2it [00:00, 14.47it/s]"
     ]
    },
    {
     "name": "stdout",
     "output_type": "stream",
     "text": [
      "val loss: 0.6955365538597107, acc: 0.5137932020720507, auc: 0.5145574617267585, uscore: 945.1343862421477\n"
     ]
    },
    {
     "name": "stderr",
     "output_type": "stream",
     "text": [
      "train loss: 0.6736617088317871, acc: 0.5547788486242838, auc: 0.5530429113730235, uscore: 44.45629070239959: : 678it [00:53, 12.60it/s] \n",
      "train loss: 0.683424711227417, acc: 0.553955078125, auc: 0.5492072049450145, uscore: 55.85541343688965: : 2it [00:00, 14.88it/s]"
     ]
    },
    {
     "name": "stdout",
     "output_type": "stream",
     "text": [
      "val loss: 0.6963872909545898, acc: 0.5129166687696737, auc: 0.5136607941232119, uscore: 716.0420284578229\n"
     ]
    },
    {
     "name": "stderr",
     "output_type": "stream",
     "text": [
      "train loss: 0.6779178380966187, acc: 0.5568458830984041, auc: 0.5550816268926958, uscore: 44.87796386323589: : 678it [00:52, 12.91it/s] \n",
      "train loss: 0.6837069988250732, acc: 0.552734375, auc: 0.5479156496945194, uscore: 52.5649938583374: : 2it [00:00, 14.56it/s]"
     ]
    },
    {
     "name": "stdout",
     "output_type": "stream",
     "text": [
      "val loss: 0.6974143385887146, acc: 0.5121309853681187, auc: 0.5129385932464595, uscore: 621.7768309260459\n"
     ]
    },
    {
     "name": "stderr",
     "output_type": "stream",
     "text": [
      "train loss: 0.6764249801635742, acc: 0.5590207732661403, auc: 0.5572051076496235, uscore: 46.13847756493668: : 678it [00:53, 12.79it/s] \n"
     ]
    },
    {
     "name": "stdout",
     "output_type": "stream",
     "text": [
      "val loss: 0.69776850938797, acc: 0.5120788307954245, auc: 0.5129928410264264, uscore: 719.1014589587371\n",
      "0.5098167218105776\n"
     ]
    },
    {
     "data": {
      "text/plain": [
       "0.5098167218105776"
      ]
     },
     "execution_count": 74,
     "metadata": {},
     "output_type": "execute_result"
    }
   ],
   "source": [
    "process(data, {'act': 'Swish'})"
   ]
  },
  {
   "cell_type": "code",
   "execution_count": 62,
   "metadata": {},
   "outputs": [],
   "source": [
    "th.optim.Adam?"
   ]
  },
  {
   "cell_type": "code",
   "execution_count": null,
   "metadata": {},
   "outputs": [],
   "source": []
  }
 ],
 "metadata": {
  "kernelspec": {
   "display_name": "Python 3",
   "language": "python",
   "name": "python3"
  },
  "language_info": {
   "codemirror_mode": {
    "name": "ipython",
    "version": 3
   },
   "file_extension": ".py",
   "mimetype": "text/x-python",
   "name": "python",
   "nbconvert_exporter": "python",
   "pygments_lexer": "ipython3",
   "version": "3.7.6"
  }
 },
 "nbformat": 4,
 "nbformat_minor": 4
}
